{
 "cells": [
  {
   "cell_type": "code",
   "execution_count": null,
   "metadata": {},
   "outputs": [],
   "source": []
  },
  {
   "cell_type": "markdown",
   "metadata": {},
   "source": [
    "<div class=\"markdown-google-sans\">\n",
    "\n",
    "## <strong>Exploratory Data Analysis (EDA)</strong>\n",
    "</div>\n",
    "\n",
    "Conduct a thorough exploratory data analysis. \n",
    "\n",
    "This should include understanding the distribution of data, detecting outliers, and exploring relationships between features. \n",
    "\n",
    "Visualize important features and correlations."
   ]
  },
  {
   "cell_type": "markdown",
   "metadata": {},
   "source": [
    "<div class=\"markdown-google-sans\">\n",
    "\n",
    "## <strong>Feature Engineering and Selection</strong>\n",
    "</div>\n",
    "\n",
    "Based on your EDA, engineer new features and select the most relevant ones for your model. Justify your choices."
   ]
  },
  {
   "cell_type": "markdown",
   "metadata": {},
   "source": [
    "<div class=\"markdown-google-sans\">\n",
    "\n",
    "## <strong>Machine Learning Model</strong>\n",
    "</div>\n",
    "\n",
    "Build a machine learning model to predict the \"price\" variable.\n",
    "Explain your choice of model and any hyperparameters you tune. Use appropriate validation techniques."
   ]
  },
  {
   "cell_type": "markdown",
   "metadata": {},
   "source": [
    "<div class=\"markdown-google-sans\">\n",
    "\n",
    "## <strong>Evaluation and Interpretation</strong>\n",
    "</div>\n",
    "\n",
    "Evaluate the performance of your model using appropriate metrics. \n",
    "Interpret your model's predictions, and discuss its strengths and weaknesses."
   ]
  }
 ],
 "metadata": {
  "language_info": {
   "name": "python"
  }
 },
 "nbformat": 4,
 "nbformat_minor": 2
}
